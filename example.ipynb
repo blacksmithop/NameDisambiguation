{
 "cells": [
  {
   "cell_type": "code",
   "execution_count": 13,
   "metadata": {},
   "outputs": [],
   "source": [
    "from disambiguation import Similarity"
   ]
  },
  {
   "cell_type": "code",
   "execution_count": 14,
   "metadata": {},
   "outputs": [],
   "source": [
    "text1 = \"This is a test string\"\n",
    "text2 = \"This is a test string 123\""
   ]
  },
  {
   "cell_type": "code",
   "execution_count": 15,
   "metadata": {},
   "outputs": [],
   "source": [
    "sim = Similarity(text1, text2)\n",
    "disambiguated_name = sim.calculate()"
   ]
  },
  {
   "cell_type": "code",
   "execution_count": 16,
   "metadata": {},
   "outputs": [
    {
     "name": "stdout",
     "output_type": "stream",
     "text": [
      "Text 1: This is a test string\n",
      "Text 2: This is a test string 123\n",
      "Score: 0.91\n"
     ]
    }
   ],
   "source": [
    "print(f\"Text 1: {text1}\\nText 2: {text2}\\nScore: {sim.ratio}\")"
   ]
  },
  {
   "cell_type": "code",
   "execution_count": 17,
   "metadata": {},
   "outputs": [
    {
     "name": "stdout",
     "output_type": "stream",
     "text": [
      "Output: This is a test string 123 -> This is a test string\n"
     ]
    }
   ],
   "source": [
    "print(f\"Output: {text2} -> {disambiguated_name}\")"
   ]
  },
  {
   "cell_type": "code",
   "execution_count": 18,
   "metadata": {},
   "outputs": [],
   "source": [
    "name1 = \"Tom Cruise\"\n",
    "name2 = \"Tom Cruise Jr\""
   ]
  },
  {
   "cell_type": "code",
   "execution_count": 19,
   "metadata": {},
   "outputs": [],
   "source": [
    "sim = Similarity(name1, name2)\n",
    "disambiguated_name = sim.calculate()"
   ]
  },
  {
   "cell_type": "code",
   "execution_count": 20,
   "metadata": {},
   "outputs": [
    {
     "name": "stdout",
     "output_type": "stream",
     "text": [
      "Name 1: Tom Cruise\n",
      "Name 2: Tom Cruise Jr\n",
      "Score: 0.87\n"
     ]
    }
   ],
   "source": [
    "print(f\"Name 1: {name1}\\nName 2: {name2}\\nScore: {sim.ratio}\")"
   ]
  },
  {
   "cell_type": "code",
   "execution_count": 21,
   "metadata": {},
   "outputs": [
    {
     "name": "stdout",
     "output_type": "stream",
     "text": [
      "Output: Tom Cruise Jr -> Tom Cruise\n"
     ]
    }
   ],
   "source": [
    "print(f\"Output: {name2} -> {disambiguated_name}\")\n"
   ]
  }
 ],
 "metadata": {
  "kernelspec": {
   "display_name": "disname",
   "language": "python",
   "name": "python3"
  },
  "language_info": {
   "codemirror_mode": {
    "name": "ipython",
    "version": 3
   },
   "file_extension": ".py",
   "mimetype": "text/x-python",
   "name": "python",
   "nbconvert_exporter": "python",
   "pygments_lexer": "ipython3",
   "version": "3.10.4"
  },
  "orig_nbformat": 4,
  "vscode": {
   "interpreter": {
    "hash": "0ace7a842d0e632592b4b25b866d30953f339728be3e15de56886096b35946ed"
   }
  }
 },
 "nbformat": 4,
 "nbformat_minor": 2
}
